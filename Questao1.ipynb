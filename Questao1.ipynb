{
 "cells": [
  {
   "cell_type": "code",
   "execution_count": 40,
   "metadata": {},
   "outputs": [],
   "source": [
    "import pandas as pd\n",
    "df = pd.read_csv(\"./laptops.csv\", encoding = \"ISO-8859-1\")"
   ]
  },
  {
   "cell_type": "code",
   "execution_count": 41,
   "metadata": {},
   "outputs": [],
   "source": [
    "def mod_cols(col):\n",
    "    col = col.strip()\n",
    "    col = col.replace('(', '')\n",
    "    col = col.replace(')', '')\n",
    "    col = col.lower()\n",
    "    col = col.replace(' ', '_')\n",
    "    return col\n",
    "    \n",
    "df.columns = [mod_cols(c) for c in df.columns]"
   ]
  },
  {
   "cell_type": "code",
   "execution_count": 42,
   "metadata": {},
   "outputs": [],
   "source": [
    "def justReso(sr):\n",
    "    sr = sr.strip()\n",
    "    sr = sr.rsplit(' ').pop()\n",
    "    return sr\n",
    "df['screen_resolution'] = [justReso(sr) for sr in df['screen']]"
   ]
  },
  {
   "cell_type": "code",
   "execution_count": 43,
   "metadata": {},
   "outputs": [],
   "source": [
    "def justDesc(sd):\n",
    "    sd = sd.strip()\n",
    "    sd = sd.rsplit(' ')\n",
    "    sd.pop()\n",
    "    sd = ' '.join(sd)\n",
    "    if (sd == ''): sd = '-'\n",
    "    return sd\n",
    "    \n",
    "df['screen'] = [justDesc(sd) for sd in df['screen']]"
   ]
  },
  {
   "cell_type": "code",
   "execution_count": 110,
   "metadata": {},
   "outputs": [],
   "source": [
    "# df['screen'].head()"
   ]
  },
  {
   "cell_type": "code",
   "execution_count": 111,
   "metadata": {},
   "outputs": [],
   "source": [
    "# df['screen_resolution'].head()"
   ]
  },
  {
   "cell_type": "code",
   "execution_count": 47,
   "metadata": {},
   "outputs": [],
   "source": [
    "def storageSplit1(ss):\n",
    "    ss = ss.split(\"+ \")[0]\n",
    "    return ss\n",
    "df['storage_capacity1'] = [storageSplit1(ss) for ss in df['storage']]\n",
    "\n",
    "def storageSplit2(ss):\n",
    "    ss = ss.split(\"+ \")\n",
    "    if(len(ss) > 1):\n",
    "        ss = ss[1]\n",
    "        return ss\n",
    "    return []\n",
    "df['storage_capacity2'] = [storageSplit2(ss) for ss in df['storage']]"
   ]
  },
  {
   "cell_type": "code",
   "execution_count": 50,
   "metadata": {},
   "outputs": [],
   "source": [
    "def storageSplit1(sts):\n",
    "    sts = sts.strip()\n",
    "    sts = sts.split(' ')\n",
    "    return sts.pop()\n",
    "df['storage_type1'] = [storageSplit1(sts) for sts in df['storage_capacity1']]\n",
    "\n",
    "def typeSplit1(sts):\n",
    "    sts = sts.strip()\n",
    "    sts = sts.split(' ')\n",
    "    sts.pop()\n",
    "    return sts[0]\n",
    "df['storage_capacity1'] = [typeSplit1(sts) for sts in df['storage_capacity1']]"
   ]
  },
  {
   "cell_type": "code",
   "execution_count": null,
   "metadata": {},
   "outputs": [],
   "source": [
    "def storageSplit2(sts):\n",
    "    if len(sts) == 0:\n",
    "        return \"-\"\n",
    "    sts = sts.strip()\n",
    "    sts = sts.split(' ')\n",
    "    return sts.pop()\n",
    "df['storage_type2'] = [storageSplit2(sts) for sts in df['storage_capacity2']]\n",
    "\n",
    "def typeSplit2(sts):\n",
    "    if len(sts) == 0:\n",
    "        return \"-\"\n",
    "    sts = sts.strip()\n",
    "    sts = sts.split(' ')\n",
    "    sts.pop()\n",
    "    return sts[0]\n",
    "df['storage_capacity2'] = [typeSplit2(sts) for sts in df['storage_capacity2']]"
   ]
  }
 ],
 "metadata": {
  "kernelspec": {
   "display_name": "Python 3",
   "language": "python",
   "name": "python3"
  },
  "language_info": {
   "codemirror_mode": {
    "name": "ipython",
    "version": 3
   },
   "file_extension": ".py",
   "mimetype": "text/x-python",
   "name": "python",
   "nbconvert_exporter": "python",
   "pygments_lexer": "ipython3",
   "version": "3.8.5"
  }
 },
 "nbformat": 4,
 "nbformat_minor": 4
}
